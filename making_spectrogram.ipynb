{
 "cells": [
  {
   "cell_type": "code",
   "execution_count": 2,
   "id": "e78200c4",
   "metadata": {},
   "outputs": [],
   "source": [
    "import matplotlib.pyplot as plt"
   ]
  },
  {
   "cell_type": "code",
   "execution_count": 3,
   "id": "f18ebf0b",
   "metadata": {},
   "outputs": [],
   "source": [
    "import os"
   ]
  },
  {
   "cell_type": "code",
   "execution_count": 4,
   "id": "506084c0",
   "metadata": {},
   "outputs": [],
   "source": [
    "import numpy as np"
   ]
  },
  {
   "cell_type": "code",
   "execution_count": 5,
   "id": "7aaaf053",
   "metadata": {},
   "outputs": [],
   "source": [
    "import librosa"
   ]
  },
  {
   "cell_type": "code",
   "execution_count": 11,
   "id": "695dd3b5",
   "metadata": {},
   "outputs": [
    {
     "name": "stdout",
     "output_type": "stream",
     "text": [
      "Svi spektrogrami su generisani i sačuvani.\n"
     ]
    }
   ],
   "source": [
    "folder_path = 'muzika\\\\scifi'\n",
    "\n",
    "save_folder = 'spektogrami2\\\\scifi'\n",
    "\n",
    "for filename in os.listdir(folder_path):\n",
    "    if filename.endswith(\".wav\"):\n",
    "        audio_path = os.path.join(folder_path, filename)\n",
    "        y, sr = librosa.load(audio_path)\n",
    "\n",
    "        D = librosa.feature.melspectrogram(y=y, sr=sr)\n",
    "\n",
    "        log_D = librosa.power_to_db(D, ref=np.max)\n",
    "\n",
    "        save_path = os.path.join(save_folder, f'{os.path.splitext(filename)[0]}.png')\n",
    "\n",
    "        plt.figure(figsize=(5, 4))\n",
    "        librosa.display.specshow(log_D, y_axis='mel', x_axis='time')\n",
    "        plt.axis('off')  \n",
    "        plt.savefig(save_path, bbox_inches='tight', pad_inches=0)\n",
    "        plt.close()\n",
    "\n",
    "print(\"Svi spektrogrami su generisani i sačuvani.\")"
   ]
  },
  {
   "cell_type": "code",
   "execution_count": null,
   "id": "7dcda8fd",
   "metadata": {},
   "outputs": [],
   "source": []
  }
 ],
 "metadata": {
  "kernelspec": {
   "display_name": "Python 3 (ipykernel)",
   "language": "python",
   "name": "python3"
  },
  "language_info": {
   "codemirror_mode": {
    "name": "ipython",
    "version": 3
   },
   "file_extension": ".py",
   "mimetype": "text/x-python",
   "name": "python",
   "nbconvert_exporter": "python",
   "pygments_lexer": "ipython3",
   "version": "3.9.13"
  }
 },
 "nbformat": 4,
 "nbformat_minor": 5
}
